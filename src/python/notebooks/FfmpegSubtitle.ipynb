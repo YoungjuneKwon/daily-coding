{
 "cells": [
  {
   "cell_type": "code",
   "execution_count": null,
   "metadata": {},
   "outputs": [],
   "source": [
    "SRC = \"//192.168.0.1/HDD2/pub/files/movies/CaroleAndTuesday\"\n",
    "FFMPEG_EXE = \"c:/Users/shining/Desktop/ffmpeg/bin/ffmpeg.exe\"\n",
    "MOV_EXT = \"mkv\"\n",
    "SRC_ENCODING = 'euc-kr'\n",
    "WORKING = SRC+\"/working\"\n",
    "W_SMI = WORKING+\"/smi\"\n",
    "W_MP4 = WORKING+\"/mp4\"\n",
    "\n",
    "import os\n",
    "SMIs = sorted([SRC+\"/\"+f for f in filter(lambda f:f.endswith(\".smi\"), os.listdir(SRC))])\n",
    "MOVs = sorted([SRC+\"/\"+f for f in filter(lambda f:f.endswith(\".\"+MOV_EXT), os.listdir(SRC))])\n",
    "\n",
    "def run_cmd(cmd):\n",
    "    import os\n",
    "    return os.popen(cmd).readlines()\n",
    "\n",
    "def ffmpeg(options):\n",
    "    run_cmd(\"%s %s\"%(FFMPEG_EXE, options))\n",
    "    \n",
    "def iconv(src_path, org_encoding, tgt_path, dst_encoding='utf-8'):\n",
    "    with open(src_path, 'r', encoding=org_encoding) as f:\n",
    "        s = f.read()\n",
    "    with open(tgt_path, 'w', encoding=dst_encoding) as f:\n",
    "        f.write(s)\n",
    "    return tgt_path\n",
    "        \n",
    "def iconv_all(src_list, org_encoding, tgt_pattern, dst_encoding='utf-8'):\n",
    "    return [iconv(s, org_encoding, tgt_pattern%(i+1), dst_encoding) for i, s in enumerate(src_list)]\n",
    "    \n",
    "def to_srt(smi_path):\n",
    "    ffmpeg(\"-i %s %s\"%(smi_path, smi_path.replace(\".smi\", \".srt\")))\n",
    "    return smi_path.replace(\".smi\", \".srt\")\n",
    "\n",
    "def encode_with_subtitle(mov, srt, mp4):\n",
    "    ffmpeg('-i \"%s\" -vf \"subtitles=\\'%s\\':force_style=\\'FontName=맑은 고딕,Fontsize=30\\'\" -c:V libx264 -c:a aac \"%s\"'\n",
    "          %(mov, srt, mp4))\n",
    "    return mp4\n",
    "\n",
    "run_cmd(\"powershell mkdir -p %s\"%W_SMI)\n",
    "run_cmd(\"powershell mkdir -p %s\"%W_MP4)\n",
    "\n",
    "[to_srt(s) for s in iconv_all(SMIs, 'euc-kr', W_SMI+\"/%02d.smi\")]\n",
    "\n",
    "for i, m in enumerate(MOVs):\n",
    "    srt = W_SMI + \"/%02d.srt\"%(i+1)\n",
    "    mp4 = W_MP4 + \"/%02d.mp4\"%(i+1)\n",
    "    print(encode_with_subtitle(m, srt, mp4))\n",
    "\n",
    "\"done\""
   ]
  }
 ],
 "metadata": {
  "kernelspec": {
   "display_name": "Python 3",
   "language": "python",
   "name": "python3"
  },
  "language_info": {
   "codemirror_mode": {
    "name": "ipython",
    "version": 3
   },
   "file_extension": ".py",
   "mimetype": "text/x-python",
   "name": "python",
   "nbconvert_exporter": "python",
   "pygments_lexer": "ipython3",
   "version": "3.7.3"
  }
 },
 "nbformat": 4,
 "nbformat_minor": 4
}
