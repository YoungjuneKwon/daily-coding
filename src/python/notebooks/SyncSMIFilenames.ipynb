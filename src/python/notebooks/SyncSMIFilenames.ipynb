{
 "cells": [
  {
   "cell_type": "code",
   "execution_count": 25,
   "metadata": {},
   "outputs": [],
   "source": [
    "import os, re\n",
    "\n",
    "path = \"E:\\\\pub\\\\Sword Art Online\\\\\"\n",
    "exts = ['mkv', 'smi']\n",
    "ptrns = ['.* ([0-9][0-9]) .*', '.*([0-9][0-9]).*']\n",
    "file_list = os.listdir(path)\n",
    "grps = [[f for f in file_list if f.endswith(e)] for i, e in enumerate(exts)]\n",
    "mp = {k:{0:None, 1:None} for k in range(1, max(len(grps[0]), len(grps[1])) + 1)}\n",
    "[mp[int(re.match(ptrns[i], f)[1])].update({i: f}) for i, g in enumerate(grps) for f in g]\n",
    "for m in filter(lambda m:m[0] != None and m[1] != None, mp.values()):\n",
    "    os.rename(f\"{path}{m[1]}\", f\"{path}{'.'.join(m[0].split('.')[:-1])}.smi\")"
   ]
  }
 ],
 "metadata": {
  "kernelspec": {
   "display_name": "moorea",
   "language": "python",
   "name": "moorea"
  },
  "language_info": {
   "codemirror_mode": {
    "name": "ipython",
    "version": 3
   },
   "file_extension": ".py",
   "mimetype": "text/x-python",
   "name": "python",
   "nbconvert_exporter": "python",
   "pygments_lexer": "ipython3",
   "version": "3.7.3"
  }
 },
 "nbformat": 4,
 "nbformat_minor": 4
}
