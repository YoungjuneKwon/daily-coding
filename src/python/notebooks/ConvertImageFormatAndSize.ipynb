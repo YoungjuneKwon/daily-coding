{
 "cells": [
  {
   "cell_type": "code",
   "execution_count": null,
   "metadata": {},
   "outputs": [],
   "source": [
    "target_path=r''\n",
    "output_path=r''"
   ]
  },
  {
   "cell_type": "code",
   "execution_count": null,
   "metadata": {},
   "outputs": [],
   "source": [
    "import os, shutil, itertools, sys\n",
    "from PIL import Image\n",
    "\n",
    "def validatePath(path):\n",
    "  arr = path.split(os.sep)\n",
    "  for i in range(1,len(arr)):\n",
    "    f = os.sep.join(arr[:i])\n",
    "    os.mkdir(f) if not os.path.exists(f) else None\n",
    "\n",
    "def convert(src, dest, qulity=70, jpeg=False):\n",
    "  print(\"convert, \", src, dest, qulity)\n",
    "  targets = list(itertools.chain(*[list(map(lambda f:\"%s%s%s\"%(path, os.sep, f), files)) for (path, _, files) in os.walk(src)]))\n",
    "  print('', end='', flush=True)\n",
    "  for idx, t in enumerate(targets):\n",
    "      print('\\r%d / %d'%(idx, len(targets)), end='', flush=True)\n",
    "      output = t.replace(src, dest)\n",
    "      if os.path.exists(output):\n",
    "        continue\n",
    "      validatePath(output)\n",
    "      im = Image.open(t)\n",
    "      if jpeg:\n",
    "        im = im.convert('RGB')\n",
    "        output = '.'.join(output.split('.')[:-1]) + '.jpg'\n",
    "        im.save(output, optimize=True, quality=qulity, format='JPEG')\n",
    "      else:\n",
    "        im.save(output, optimize=True, quality=qulity)\n",
    "  print('done')\n"
   ]
  },
  {
   "cell_type": "code",
   "execution_count": null,
   "metadata": {},
   "outputs": [],
   "source": [
    "convert(target_path, output_path, jpeg=True)"
   ]
  }
 ],
 "metadata": {
  "kernelspec": {
   "display_name": "Python 3",
   "language": "python",
   "name": "python3"
  },
  "language_info": {
   "codemirror_mode": {
    "name": "ipython",
    "version": 3
   },
   "file_extension": ".py",
   "mimetype": "text/x-python",
   "name": "python",
   "nbconvert_exporter": "python",
   "pygments_lexer": "ipython3",
   "version": "3.7.3"
  }
 },
 "nbformat": 4,
 "nbformat_minor": 2
}
