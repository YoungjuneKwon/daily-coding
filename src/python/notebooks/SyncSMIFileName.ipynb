{
 "cells": [
  {
   "cell_type": "code",
   "execution_count": null,
   "metadata": {},
   "outputs": [],
   "source": [
    "def SyncSMIFileName(path, st=1, ed=24, mkv_idx_pattern=\" %s \", smi_idx_pattern=\"_%s_\"):\n",
    "    import os\n",
    "    lst=os.listdir(path)\n",
    "\n",
    "    smis = list(filter(lambda a:a.endswith('smi'), lst))\n",
    "    mkvs = list(filter(lambda a:a.endswith('mkv'), lst))\n",
    "    idxs = list(map(lambda d:'%02d'%d, range(st,ed+1)))\n",
    "\n",
    "    def find_for_idx(lst, idx):\n",
    "        for f in lst:\n",
    "            if idx in f:\n",
    "                return f\n",
    "        return None\n",
    "\n",
    "    ord_mkvs=list(map(lambda i:find_for_idx(mkvs, mkv_idx_pattern%i), idxs))\n",
    "    ord_smis=list(map(lambda i:find_for_idx(smis, smi_idx_pattern%i), idxs))\n",
    "\n",
    "    for i, m in enumerate(ord_mkvs):\n",
    "        s = ord_smis[i]\n",
    "        if m == None or s == None:\n",
    "            continue\n",
    "        os.rename(path + os.path.sep + s, path + os.path.sep +'.'.join(m.split('.')[:-1])+'.smi')"
   ]
  }
 ],
 "metadata": {
  "kernelspec": {
   "display_name": "Python 3",
   "language": "python",
   "name": "python3"
  },
  "language_info": {
   "codemirror_mode": {
    "name": "ipython",
    "version": 3
   },
   "file_extension": ".py",
   "mimetype": "text/x-python",
   "name": "python",
   "nbconvert_exporter": "python",
   "pygments_lexer": "ipython3",
   "version": "3.7.3"
  }
 },
 "nbformat": 4,
 "nbformat_minor": 2
}
